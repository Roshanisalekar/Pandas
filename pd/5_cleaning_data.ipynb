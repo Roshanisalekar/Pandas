{
 "cells": [
  {
   "cell_type": "code",
   "execution_count": 1,
   "id": "36298240-592e-414c-bf5d-b287633904f7",
   "metadata": {},
   "outputs": [],
   "source": [
    "import pandas as pd"
   ]
  },
  {
   "cell_type": "code",
   "execution_count": null,
   "id": "fdfcad90-241c-4a51-8c56-a9898c0871e6",
   "metadata": {},
   "outputs": [],
   "source": [
    "# cleaning data:\n",
    "# data cleaning means fixing wrong data in your data set.\n",
    "\n",
    "# Bad data could be:\n",
    "\n",
    "# Empty cells\n",
    "# Data in wrong format\n",
    "# Wrong data\n",
    "# Duplicates"
   ]
  }
 ],
 "metadata": {
  "kernelspec": {
   "display_name": "Python 3 (ipykernel)",
   "language": "python",
   "name": "python3"
  },
  "language_info": {
   "codemirror_mode": {
    "name": "ipython",
    "version": 3
   },
   "file_extension": ".py",
   "mimetype": "text/x-python",
   "name": "python",
   "nbconvert_exporter": "python",
   "pygments_lexer": "ipython3",
   "version": "3.11.9"
  }
 },
 "nbformat": 4,
 "nbformat_minor": 5
}
