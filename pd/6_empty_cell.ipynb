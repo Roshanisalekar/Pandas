{
 "cells": [
  {
   "cell_type": "code",
   "execution_count": 51,
   "id": "90db25ba-55ed-4b5c-b1bc-32213e3c5699",
   "metadata": {},
   "outputs": [],
   "source": [
    "import pandas as pd\n",
    "import numpy as np"
   ]
  },
  {
   "cell_type": "code",
   "execution_count": 52,
   "id": "c46ed428-a7e2-4e6e-aabb-7c90eb2737e8",
   "metadata": {},
   "outputs": [],
   "source": [
    "# remove row  : it is used to dropna\n",
    "\n",
    "data={\"name\":[\"roshani\",\"savi\",np.nan,\"ankush\",\"nikita\"],\"age\":[12,23,34,45,np.nan],\"salary\":[2000,np.nan,4000,5000,6000]}"
   ]
  },
  {
   "cell_type": "code",
   "execution_count": 53,
   "id": "904ef71d-98a1-488b-99c8-ad20695e7b32",
   "metadata": {},
   "outputs": [
    {
     "data": {
      "text/plain": [
       "{'name': ['roshani', 'savi', nan, 'ankush', 'nikita'],\n",
       " 'age': [12, 23, 34, 45, nan],\n",
       " 'salary': [2000, nan, 4000, 5000, 6000]}"
      ]
     },
     "execution_count": 53,
     "metadata": {},
     "output_type": "execute_result"
    }
   ],
   "source": [
    "data"
   ]
  },
  {
   "cell_type": "code",
   "execution_count": 54,
   "id": "0d6c88c6-6650-486c-bdf7-f8f32052239e",
   "metadata": {},
   "outputs": [],
   "source": [
    "d=pd.DataFrame(data)"
   ]
  },
  {
   "cell_type": "code",
   "execution_count": 55,
   "id": "9721fd17-8a0f-4a57-b6a1-bacb9c67aaca",
   "metadata": {},
   "outputs": [
    {
     "data": {
      "text/html": [
       "<div>\n",
       "<style scoped>\n",
       "    .dataframe tbody tr th:only-of-type {\n",
       "        vertical-align: middle;\n",
       "    }\n",
       "\n",
       "    .dataframe tbody tr th {\n",
       "        vertical-align: top;\n",
       "    }\n",
       "\n",
       "    .dataframe thead th {\n",
       "        text-align: right;\n",
       "    }\n",
       "</style>\n",
       "<table border=\"1\" class=\"dataframe\">\n",
       "  <thead>\n",
       "    <tr style=\"text-align: right;\">\n",
       "      <th></th>\n",
       "      <th>name</th>\n",
       "      <th>age</th>\n",
       "      <th>salary</th>\n",
       "    </tr>\n",
       "  </thead>\n",
       "  <tbody>\n",
       "    <tr>\n",
       "      <th>0</th>\n",
       "      <td>roshani</td>\n",
       "      <td>12.0</td>\n",
       "      <td>2000.0</td>\n",
       "    </tr>\n",
       "    <tr>\n",
       "      <th>1</th>\n",
       "      <td>savi</td>\n",
       "      <td>23.0</td>\n",
       "      <td>NaN</td>\n",
       "    </tr>\n",
       "    <tr>\n",
       "      <th>2</th>\n",
       "      <td>NaN</td>\n",
       "      <td>34.0</td>\n",
       "      <td>4000.0</td>\n",
       "    </tr>\n",
       "    <tr>\n",
       "      <th>3</th>\n",
       "      <td>ankush</td>\n",
       "      <td>45.0</td>\n",
       "      <td>5000.0</td>\n",
       "    </tr>\n",
       "    <tr>\n",
       "      <th>4</th>\n",
       "      <td>nikita</td>\n",
       "      <td>NaN</td>\n",
       "      <td>6000.0</td>\n",
       "    </tr>\n",
       "  </tbody>\n",
       "</table>\n",
       "</div>"
      ],
      "text/plain": [
       "      name   age  salary\n",
       "0  roshani  12.0  2000.0\n",
       "1     savi  23.0     NaN\n",
       "2      NaN  34.0  4000.0\n",
       "3   ankush  45.0  5000.0\n",
       "4   nikita   NaN  6000.0"
      ]
     },
     "execution_count": 55,
     "metadata": {},
     "output_type": "execute_result"
    }
   ],
   "source": [
    "d"
   ]
  },
  {
   "cell_type": "code",
   "execution_count": 46,
   "id": "c3b2dacb-98a8-43fe-ab5b-a6a9c9b0eb5b",
   "metadata": {},
   "outputs": [],
   "source": [
    "e=d.dropna()"
   ]
  },
  {
   "cell_type": "code",
   "execution_count": 47,
   "id": "211fb456-54bc-4377-b528-1ffef61197cb",
   "metadata": {},
   "outputs": [
    {
     "data": {
      "text/html": [
       "<div>\n",
       "<style scoped>\n",
       "    .dataframe tbody tr th:only-of-type {\n",
       "        vertical-align: middle;\n",
       "    }\n",
       "\n",
       "    .dataframe tbody tr th {\n",
       "        vertical-align: top;\n",
       "    }\n",
       "\n",
       "    .dataframe thead th {\n",
       "        text-align: right;\n",
       "    }\n",
       "</style>\n",
       "<table border=\"1\" class=\"dataframe\">\n",
       "  <thead>\n",
       "    <tr style=\"text-align: right;\">\n",
       "      <th></th>\n",
       "      <th>name</th>\n",
       "      <th>age</th>\n",
       "      <th>salary</th>\n",
       "    </tr>\n",
       "  </thead>\n",
       "  <tbody>\n",
       "    <tr>\n",
       "      <th>0</th>\n",
       "      <td>roshani</td>\n",
       "      <td>12.0</td>\n",
       "      <td>2000.0</td>\n",
       "    </tr>\n",
       "    <tr>\n",
       "      <th>3</th>\n",
       "      <td>ankush</td>\n",
       "      <td>45.0</td>\n",
       "      <td>5000.0</td>\n",
       "    </tr>\n",
       "  </tbody>\n",
       "</table>\n",
       "</div>"
      ],
      "text/plain": [
       "      name   age  salary\n",
       "0  roshani  12.0  2000.0\n",
       "3   ankush  45.0  5000.0"
      ]
     },
     "execution_count": 47,
     "metadata": {},
     "output_type": "execute_result"
    }
   ],
   "source": [
    "e\n"
   ]
  },
  {
   "cell_type": "code",
   "execution_count": null,
   "id": "719df425-568f-4380-bb0f-8a4586aaee9a",
   "metadata": {},
   "outputs": [],
   "source": [
    "# Note: By default, the dropna() method returns a new DataFrame, and will not change the original."
   ]
  },
  {
   "cell_type": "code",
   "execution_count": null,
   "id": "b2711fa2-6194-4bbd-9b60-c241ca00871e",
   "metadata": {},
   "outputs": [],
   "source": [
    "# If you want to change the original DataFrame, use the inplace = True argument"
   ]
  },
  {
   "cell_type": "code",
   "execution_count": 58,
   "id": "a7422fc7-f0f0-4b5f-a2d0-bd4ad3a71686",
   "metadata": {},
   "outputs": [],
   "source": [
    "d.dropna(inplace=True)   \n"
   ]
  },
  {
   "cell_type": "code",
   "execution_count": 59,
   "id": "d1919176-c5b2-4414-95d1-de62c80bd8b0",
   "metadata": {},
   "outputs": [
    {
     "data": {
      "text/html": [
       "<div>\n",
       "<style scoped>\n",
       "    .dataframe tbody tr th:only-of-type {\n",
       "        vertical-align: middle;\n",
       "    }\n",
       "\n",
       "    .dataframe tbody tr th {\n",
       "        vertical-align: top;\n",
       "    }\n",
       "\n",
       "    .dataframe thead th {\n",
       "        text-align: right;\n",
       "    }\n",
       "</style>\n",
       "<table border=\"1\" class=\"dataframe\">\n",
       "  <thead>\n",
       "    <tr style=\"text-align: right;\">\n",
       "      <th></th>\n",
       "      <th>name</th>\n",
       "      <th>age</th>\n",
       "      <th>salary</th>\n",
       "    </tr>\n",
       "  </thead>\n",
       "  <tbody>\n",
       "    <tr>\n",
       "      <th>0</th>\n",
       "      <td>roshani</td>\n",
       "      <td>12.0</td>\n",
       "      <td>2000.0</td>\n",
       "    </tr>\n",
       "    <tr>\n",
       "      <th>3</th>\n",
       "      <td>ankush</td>\n",
       "      <td>45.0</td>\n",
       "      <td>5000.0</td>\n",
       "    </tr>\n",
       "  </tbody>\n",
       "</table>\n",
       "</div>"
      ],
      "text/plain": [
       "      name   age  salary\n",
       "0  roshani  12.0  2000.0\n",
       "3   ankush  45.0  5000.0"
      ]
     },
     "execution_count": 59,
     "metadata": {},
     "output_type": "execute_result"
    }
   ],
   "source": [
    "d   # original data "
   ]
  },
  {
   "cell_type": "code",
   "execution_count": 60,
   "id": "1bc64c07-44bd-4858-9562-9357054f53af",
   "metadata": {},
   "outputs": [
    {
     "data": {
      "text/plain": [
       "'      name   age  salary\\n0  roshani  12.0  2000.0\\n3   ankush  45.0  5000.0'"
      ]
     },
     "execution_count": 60,
     "metadata": {},
     "output_type": "execute_result"
    }
   ],
   "source": [
    "d.to_string()"
   ]
  },
  {
   "cell_type": "code",
   "execution_count": null,
   "id": "aad92f5b-ae3e-4142-a408-7f8a49da16ed",
   "metadata": {},
   "outputs": [],
   "source": []
  }
 ],
 "metadata": {
  "kernelspec": {
   "display_name": "Python 3 (ipykernel)",
   "language": "python",
   "name": "python3"
  },
  "language_info": {
   "codemirror_mode": {
    "name": "ipython",
    "version": 3
   },
   "file_extension": ".py",
   "mimetype": "text/x-python",
   "name": "python",
   "nbconvert_exporter": "python",
   "pygments_lexer": "ipython3",
   "version": "3.11.9"
  }
 },
 "nbformat": 4,
 "nbformat_minor": 5
}
