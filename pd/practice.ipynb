{
 "cells": [
  {
   "cell_type": "code",
   "execution_count": 1,
   "id": "e4ca3ad3-3389-4fcd-b780-4332a38a03dc",
   "metadata": {},
   "outputs": [],
   "source": [
    "import numpy as np"
   ]
  },
  {
   "cell_type": "code",
   "execution_count": 2,
   "id": "85c116cb-1507-408e-b2de-e4a0c92a2cb0",
   "metadata": {},
   "outputs": [],
   "source": [
    "import pandas as pd"
   ]
  },
  {
   "cell_type": "code",
   "execution_count": 11,
   "id": "ddfe1760-3a9c-48a0-9078-60adb99a5995",
   "metadata": {},
   "outputs": [
    {
     "name": "stdout",
     "output_type": "stream",
     "text": [
      "[array([1, 2]), array([3, 4]), array([56, 67]), array([8, 0])]\n"
     ]
    }
   ],
   "source": [
    "# spilt method required same pair element \n",
    "a=np.array([1,2,3,4,56,67,8,0])  \n",
    "b=np.split(a,4)\n",
    "print(b)"
   ]
  },
  {
   "cell_type": "code",
   "execution_count": 13,
   "id": "19c2446e-899e-47a4-9a3e-ec389398f69e",
   "metadata": {},
   "outputs": [
    {
     "name": "stdout",
     "output_type": "stream",
     "text": [
      "[array([1, 2]), array([3, 4]), array([56, 67]), array([8])]\n"
     ]
    }
   ],
   "source": [
    "# array_spilt method not required  pair element \n",
    "a=np.array([1,2,3,4,56,67,8])\n",
    "b=np.array_split(a,4)\n",
    "print(b)"
   ]
  },
  {
   "cell_type": "code",
   "execution_count": 14,
   "id": "fde994cb-cd45-403b-a1d7-1c40f7a3b402",
   "metadata": {},
   "outputs": [],
   "source": [
    "c=np.array([1,2,3,4,5,6,7,89,1,2,3,4,754,3])\n",
    "v=np.where(c==2)"
   ]
  },
  {
   "cell_type": "code",
   "execution_count": 15,
   "id": "6e02ef91-e541-4e96-af31-35ce7ad6cf2e",
   "metadata": {},
   "outputs": [
    {
     "data": {
      "text/plain": [
       "(array([1, 9]),)"
      ]
     },
     "execution_count": 15,
     "metadata": {},
     "output_type": "execute_result"
    }
   ],
   "source": [
    "v"
   ]
  },
  {
   "cell_type": "code",
   "execution_count": 16,
   "id": "7de59d03-90f4-43c4-8882-04a5dddcd813",
   "metadata": {},
   "outputs": [
    {
     "data": {
      "text/plain": [
       "(array([0]), array([1]), array([0]))"
      ]
     },
     "execution_count": 16,
     "metadata": {},
     "output_type": "execute_result"
    }
   ],
   "source": [
    "z=np.array([[[1,2,3],[4,5,6]]])\n",
    "b=np.where(z==4)\n",
    "b"
   ]
  },
  {
   "cell_type": "code",
   "execution_count": 36,
   "id": "15ad1afd-02a6-48a5-965e-b0161c277a3c",
   "metadata": {},
   "outputs": [
    {
     "data": {
      "text/plain": [
       "array([[[1, 2, 3],\n",
       "        [4, 5, 6]]])"
      ]
     },
     "execution_count": 36,
     "metadata": {},
     "output_type": "execute_result"
    }
   ],
   "source": [
    "s=np.sort(z)\n",
    "s"
   ]
  },
  {
   "cell_type": "code",
   "execution_count": 17,
   "id": "3831ee6c-f9f2-4590-87fa-5552020fa74c",
   "metadata": {},
   "outputs": [
    {
     "data": {
      "text/plain": [
       "(array([0]), array([0]), array([2]), array([2]))"
      ]
     },
     "execution_count": 17,
     "metadata": {},
     "output_type": "execute_result"
    }
   ],
   "source": [
    "q=np.array([[[[12,23,45,67],[12,23,4,45],[2,45,1,7]]]])\n",
    "w=np.where(q==1)\n",
    "w"
   ]
  },
  {
   "cell_type": "code",
   "execution_count": 18,
   "id": "400db14f-e6f4-484d-a030-53760457b68b",
   "metadata": {},
   "outputs": [],
   "source": [
    "e=q[w]"
   ]
  },
  {
   "cell_type": "code",
   "execution_count": 19,
   "id": "913edc7b-c1e5-4e20-8630-94818f1cfbd4",
   "metadata": {},
   "outputs": [
    {
     "data": {
      "text/plain": [
       "array([1])"
      ]
     },
     "execution_count": 19,
     "metadata": {},
     "output_type": "execute_result"
    }
   ],
   "source": [
    "e"
   ]
  },
  {
   "cell_type": "code",
   "execution_count": 23,
   "id": "429cf405-8272-46f0-882a-e9b31592514b",
   "metadata": {},
   "outputs": [],
   "source": [
    "# for i in np.nditer(q):\n",
    "#     print(i)"
   ]
  },
  {
   "cell_type": "code",
   "execution_count": 22,
   "id": "aed50d4c-3c36-457b-acd3-57b6ff536fad",
   "metadata": {},
   "outputs": [
    {
     "data": {
      "text/plain": [
       "(array([0, 0, 0]), array([0, 0, 0]), array([0, 1, 2]), array([2, 3, 1]))"
      ]
     },
     "execution_count": 22,
     "metadata": {},
     "output_type": "execute_result"
    }
   ],
   "source": [
    "r=np.where(q==45)\n",
    "r"
   ]
  },
  {
   "cell_type": "code",
   "execution_count": 24,
   "id": "54c79d9f-7dfc-4ddf-8d78-f1494b020aed",
   "metadata": {},
   "outputs": [],
   "source": [
    "s=np.where(q==23)"
   ]
  },
  {
   "cell_type": "code",
   "execution_count": 25,
   "id": "7dc79a05-96d9-4fcc-8804-36f3d7172beb",
   "metadata": {},
   "outputs": [
    {
     "data": {
      "text/plain": [
       "(array([0, 0]), array([0, 0]), array([0, 1]), array([1, 1]))"
      ]
     },
     "execution_count": 25,
     "metadata": {},
     "output_type": "execute_result"
    }
   ],
   "source": [
    "s"
   ]
  },
  {
   "cell_type": "code",
   "execution_count": 31,
   "id": "15c47033-2cfe-45b8-93cf-4b8c0301e043",
   "metadata": {},
   "outputs": [
    {
     "data": {
      "text/plain": [
       "array([45, 67, 45, 45])"
      ]
     },
     "execution_count": 31,
     "metadata": {},
     "output_type": "execute_result"
    }
   ],
   "source": [
    "f=np.where(q>34)\n",
    "t=q[f]\n",
    "t\n"
   ]
  },
  {
   "cell_type": "code",
   "execution_count": 33,
   "id": "40c41709-a32a-42b6-8408-a9f2d6177bce",
   "metadata": {},
   "outputs": [
    {
     "data": {
      "text/plain": [
       "array([12, 23, 12, 23,  4,  2,  1,  7])"
      ]
     },
     "execution_count": 33,
     "metadata": {},
     "output_type": "execute_result"
    }
   ],
   "source": [
    "y=np.where(q<34)\n",
    "g=q[y]\n",
    "g"
   ]
  },
  {
   "cell_type": "code",
   "execution_count": 34,
   "id": "76ac291b-0597-4a53-bc92-512123037d6a",
   "metadata": {},
   "outputs": [],
   "source": [
    "a=np.sort(q)"
   ]
  },
  {
   "cell_type": "code",
   "execution_count": 35,
   "id": "7907d82a-b625-4121-8ccd-de791a6d9e66",
   "metadata": {},
   "outputs": [
    {
     "data": {
      "text/plain": [
       "array([[[[12, 23, 45, 67],\n",
       "         [ 4, 12, 23, 45],\n",
       "         [ 1,  2,  7, 45]]]])"
      ]
     },
     "execution_count": 35,
     "metadata": {},
     "output_type": "execute_result"
    }
   ],
   "source": [
    "a"
   ]
  },
  {
   "cell_type": "code",
   "execution_count": null,
   "id": "8632abb2-b12f-477d-b60d-bc0cac1d3b8b",
   "metadata": {},
   "outputs": [],
   "source": []
  },
  {
   "cell_type": "code",
   "execution_count": 37,
   "id": "8757c837-1f97-4605-8166-ee820224d234",
   "metadata": {},
   "outputs": [
    {
     "data": {
      "text/plain": [
       "array([ 0. ,  1. ,  2. ,  2. ,  3. ,  4. ,  5. , 34. , 45. , 56. , 89.6,\n",
       "       90. ])"
      ]
     },
     "execution_count": 37,
     "metadata": {},
     "output_type": "execute_result"
    }
   ],
   "source": [
    "a=np.array([89.6,5,45,34,2,90,0,56,4,3,2,1])\n",
    "v=np.sort(a)\n",
    "v"
   ]
  },
  {
   "cell_type": "code",
   "execution_count": 38,
   "id": "181a1068-4a3b-4647-9b44-d7b819f0fc54",
   "metadata": {},
   "outputs": [
    {
     "name": "stdout",
     "output_type": "stream",
     "text": [
      "['a' 'f' 'roshani' 's' 'x' 'z']\n"
     ]
    }
   ],
   "source": [
    "z=np.array([\"roshani\",\"a\",\"f\",\"s\",\"z\",\"x\"])\n",
    "print(np.sort(z))"
   ]
  },
  {
   "cell_type": "code",
   "execution_count": 52,
   "id": "b6d8537e-cd56-4dda-a050-04dd75a20b26",
   "metadata": {},
   "outputs": [
    {
     "data": {
      "text/plain": [
       "[True,\n",
       " True,\n",
       " False,\n",
       " False,\n",
       " True,\n",
       " False,\n",
       " False,\n",
       " True,\n",
       " True,\n",
       " True,\n",
       " False,\n",
       " True,\n",
       " False,\n",
       " False,\n",
       " False,\n",
       " True,\n",
       " True,\n",
       " True,\n",
       " True]"
      ]
     },
     "execution_count": 52,
     "metadata": {},
     "output_type": "execute_result"
    }
   ],
   "source": [
    "n=np.array([12,2,3,45,12,3,45,6,85422,4,453,1234,351,1,1,13354,32,12,1234])\n",
    "h=[]\n",
    "\n",
    "for i in n:\n",
    "    if i%2==0:\n",
    "        h.append(True)\n",
    "    else:\n",
    "        h.append(False)\n",
    "\n",
    "y=n[h]\n",
    "y\n",
    "h"
   ]
  },
  {
   "cell_type": "code",
   "execution_count": null,
   "id": "c76a0635-3e30-4009-9321-b69e0736a1d3",
   "metadata": {},
   "outputs": [],
   "source": [
    "\n",
    "a=np.array([1,2,3,4,5,6,7,8,9,10])\n",
    "\n",
    "b=[]\n",
    "\n",
    "for i in a:\n",
    "    if i%2==0:\n",
    "        b.append(True)\n",
    "    else:\n",
    "        b.append(False)\n",
    "    \n",
    "s=a[b]\n",
    "print(s)\n",
    "print(b)"
   ]
  },
  {
   "cell_type": "code",
   "execution_count": 56,
   "id": "8afea468-f076-4ab8-b839-c6343486ba78",
   "metadata": {},
   "outputs": [
    {
     "data": {
      "text/plain": [
       "[False, False, False, False, True, True, True]"
      ]
     },
     "execution_count": 56,
     "metadata": {},
     "output_type": "execute_result"
    }
   ],
   "source": [
    "v=np.array([0,-1,-2,-3,9,5,4])\n",
    "d=[]\n",
    "for i in np.nditer(v):\n",
    "    if i>0:\n",
    "        d.append(True)\n",
    "    else:\n",
    "        d.append(False)\n",
    "c=v[d]\n",
    "c\n",
    "d"
   ]
  },
  {
   "cell_type": "code",
   "execution_count": 58,
   "id": "8972d7e0-31af-45ff-aa99-647b17cacf16",
   "metadata": {},
   "outputs": [
    {
     "data": {
      "text/plain": [
       "[False, False, True, False, False, True, True, True, False, False, False]"
      ]
     },
     "execution_count": 58,
     "metadata": {},
     "output_type": "execute_result"
    }
   ],
   "source": [
    "p=np.array([1,2,3,4,566,3,3,3,6,2,1])\n",
    "q=[]\n",
    "for i in np.nditer(p):\n",
    "    if i==3:\n",
    "        q.append(True)\n",
    "    else:\n",
    "        q.append(False)\n",
    "\n",
    "a=p[q]\n",
    "a\n",
    "q"
   ]
  },
  {
   "cell_type": "code",
   "execution_count": 67,
   "id": "1976eb16-65af-4075-b97b-39b00fa16c39",
   "metadata": {},
   "outputs": [
    {
     "name": "stdout",
     "output_type": "stream",
     "text": [
      "61\n"
     ]
    }
   ],
   "source": [
    "# from numpy import random\n",
    "x=random.randint(100)\n",
    "print(x)"
   ]
  },
  {
   "cell_type": "code",
   "execution_count": 70,
   "id": "de320715-63ed-4f92-89c9-4b2a6e6becae",
   "metadata": {},
   "outputs": [
    {
     "data": {
      "text/plain": [
       "0.12436476502287674"
      ]
     },
     "execution_count": 70,
     "metadata": {},
     "output_type": "execute_result"
    }
   ],
   "source": [
    "s=random.rand()\n",
    "s"
   ]
  },
  {
   "cell_type": "code",
   "execution_count": 71,
   "id": "4f4c3c94-2c69-41ca-bd5f-497fd0fb52c0",
   "metadata": {},
   "outputs": [
    {
     "data": {
      "text/plain": [
       "array([105, 115,  24, 109, 183, 117, 110], dtype=int32)"
      ]
     },
     "execution_count": 71,
     "metadata": {},
     "output_type": "execute_result"
    }
   ],
   "source": [
    "v=random.randint(200,size=7)\n",
    "v"
   ]
  },
  {
   "cell_type": "code",
   "execution_count": 72,
   "id": "24e62010-a37a-4e70-9442-f53317ba1caa",
   "metadata": {},
   "outputs": [
    {
     "data": {
      "text/plain": [
       "array([ 46,  18, 278,  30, 165, 253, 394,  92, 317,  49, 479, 222, 100,\n",
       "       483, 249, 180, 101,  77, 399,  47, 208, 111, 175, 240, 360, 156,\n",
       "       422, 315, 316, 450, 374, 463,  52,  50, 249, 295, 412, 155,  25,\n",
       "       291, 495,  60, 207,  76, 138, 280, 310, 200, 214, 162, 107, 358,\n",
       "       359, 326, 319, 402, 139, 217, 229, 289, 424, 436, 461, 334,  55,\n",
       "       374, 181, 383, 411, 357, 449,  98,  18, 357, 343, 251, 366, 295,\n",
       "       478, 336,  19, 304,  72, 205, 295,  31, 329, 443, 117, 359, 298,\n",
       "       205, 410,  69, 202, 387, 126, 120, 365, 169], dtype=int32)"
      ]
     },
     "execution_count": 72,
     "metadata": {},
     "output_type": "execute_result"
    }
   ],
   "source": [
    "b=random.randint(500,size=100)\n",
    "b"
   ]
  },
  {
   "cell_type": "code",
   "execution_count": 73,
   "id": "fb1ab14d-e540-49c6-9878-8a190bdedc72",
   "metadata": {},
   "outputs": [
    {
     "data": {
      "text/plain": [
       "array([[ 81, 253, 349, 216, 233],\n",
       "       [ 63, 697, 166, 273, 685],\n",
       "       [216, 599, 579, 558, 507],\n",
       "       [333,   9, 134, 556, 119],\n",
       "       [319, 623,  55, 294,  58]], dtype=int32)"
      ]
     },
     "execution_count": 73,
     "metadata": {},
     "output_type": "execute_result"
    }
   ],
   "source": [
    "v=random.randint(700,size=(5,5))\n",
    "v"
   ]
  },
  {
   "cell_type": "code",
   "execution_count": 74,
   "id": "dcbb36f5-a580-4302-a8d0-5436f0cf7ca6",
   "metadata": {},
   "outputs": [
    {
     "data": {
      "text/plain": [
       "array([[103, 481, 790, 586, 411, 899, 360, 680, 384, 670, 518,   8, 888,\n",
       "        738, 638, 361, 755, 781, 624, 835, 363, 815, 211, 307, 143, 146,\n",
       "        449, 415, 278, 645],\n",
       "       [556, 861, 764, 745, 693, 414, 823, 801,  96, 173, 877, 259, 318,\n",
       "        340, 761, 359, 721, 223, 411, 295, 620, 881,  84, 322, 883, 613,\n",
       "        184, 582, 154, 221],\n",
       "       [ 51, 577, 283, 183, 214, 679, 755,  43, 596,  58, 563, 729, 423,\n",
       "        442, 602, 343,  11, 619, 876, 119, 525, 775, 541, 372, 488,  47,\n",
       "        183, 886, 636,  64],\n",
       "       [224, 530, 379, 704, 298,  82, 315, 195, 224, 462, 330, 897,  96,\n",
       "        103, 416, 353, 245, 838, 707, 159, 450, 693, 847, 834, 308, 230,\n",
       "        579, 331, 552, 422],\n",
       "       [241, 678, 449, 704, 719, 103, 832, 527, 716, 488, 627, 281, 377,\n",
       "        304, 566, 737, 563, 501, 873, 702, 366, 608, 271, 398, 519, 730,\n",
       "        210,  33, 570, 683],\n",
       "       [ 28, 339,  71, 338, 826, 398, 574, 419, 837, 781,  53, 601, 697,\n",
       "        385, 718,  42, 790, 752,  91, 324, 161, 877, 472, 669, 558, 569,\n",
       "        533, 764, 505, 614],\n",
       "       [752, 369, 720, 483, 108,  26, 766, 241,  52, 666,  61, 337, 113,\n",
       "         63,  68, 872, 852, 147, 132, 433, 160, 468, 405, 208, 825, 408,\n",
       "        458, 832, 551, 484],\n",
       "       [556, 627, 190, 124, 164, 224, 179, 404,  83, 714, 425, 742, 138,\n",
       "        591, 586,  60, 338,   8, 615, 849,  77, 771, 310, 321, 874, 137,\n",
       "        598, 180, 776, 226],\n",
       "       [320, 103, 681, 490, 371,  21, 595, 204, 730, 497, 721, 166, 302,\n",
       "        114, 165, 654, 590, 266, 784, 749, 303, 765, 887, 439, 536, 869,\n",
       "        311, 852, 116, 299],\n",
       "       [725, 617, 667, 885, 119, 286, 662, 295, 838, 528, 271, 175, 272,\n",
       "         68, 763,  77, 667, 136, 822, 659, 162,  72, 239,  78, 555, 119,\n",
       "        409, 544, 318, 188]], dtype=int32)"
      ]
     },
     "execution_count": 74,
     "metadata": {},
     "output_type": "execute_result"
    }
   ],
   "source": [
    "o=random.randint(900,size=(10,30))\n",
    "o"
   ]
  },
  {
   "cell_type": "code",
   "execution_count": 75,
   "id": "b979bc48-66b4-4218-8f48-8c04315ce608",
   "metadata": {},
   "outputs": [
    {
     "data": {
      "text/plain": [
       "array([2.25597875e-01, 9.49206597e-01, 3.52094837e-01, 2.24350528e-01,\n",
       "       8.81523358e-01, 2.23653079e-01, 9.17265035e-01, 5.89603647e-01,\n",
       "       8.86863527e-01, 3.57230861e-01, 1.28634174e-01, 4.80204115e-01,\n",
       "       9.93969173e-01, 5.04346041e-01, 1.22128380e-01, 2.24083156e-02,\n",
       "       9.30022524e-01, 1.40510637e-01, 5.61326900e-01, 9.85261789e-01,\n",
       "       1.84329383e-01, 1.68878694e-01, 4.40237493e-01, 3.49776932e-01,\n",
       "       2.50275794e-01, 1.57338311e-01, 9.25947002e-01, 3.99848784e-01,\n",
       "       2.14463269e-01, 5.74997389e-01, 2.19568153e-01, 6.59127357e-01,\n",
       "       8.68357453e-01, 8.22397773e-01, 8.11786432e-01, 3.54772745e-01,\n",
       "       6.26505518e-01, 8.77898826e-01, 6.15694661e-01, 5.10110886e-01,\n",
       "       7.67160774e-01, 8.57051061e-03, 6.43184510e-01, 8.66354707e-01,\n",
       "       9.48544528e-01, 2.81336201e-01, 5.43657417e-01, 1.56600551e-01,\n",
       "       9.29533562e-02, 3.95595045e-01, 6.25869951e-01, 1.36279637e-01,\n",
       "       5.53282225e-01, 2.68100061e-01, 2.22157597e-01, 1.25920173e-01,\n",
       "       7.61502251e-01, 6.20160359e-01, 1.23737094e-01, 4.83387917e-01,\n",
       "       6.30102972e-01, 6.76666323e-01, 4.13744180e-01, 1.82605820e-01,\n",
       "       1.84365703e-01, 7.75458841e-02, 2.49666379e-01, 8.65058909e-01,\n",
       "       2.82718496e-02, 2.56514779e-01, 6.96827750e-01, 8.66185754e-01,\n",
       "       1.16718498e-01, 7.02307046e-01, 8.38405833e-01, 8.33280114e-01,\n",
       "       9.43674843e-01, 6.61091628e-01, 2.56890736e-01, 9.84524155e-01,\n",
       "       6.95603824e-01, 3.72071658e-01, 1.54039928e-01, 7.68466724e-01,\n",
       "       9.14521219e-01, 7.82156089e-01, 3.63127380e-01, 7.26898693e-01,\n",
       "       9.66600009e-01, 9.33165353e-02, 6.35219136e-01, 6.31841684e-01,\n",
       "       8.90691099e-01, 7.65148223e-01, 3.29712841e-01, 3.90562221e-01,\n",
       "       6.61510765e-01, 3.89554065e-01, 1.25703084e-01, 5.23489527e-01,\n",
       "       3.07910708e-01, 2.99148413e-01, 3.37228166e-01, 6.61453222e-01,\n",
       "       9.34654548e-01, 1.94147768e-01, 8.13287776e-01, 3.39957147e-01,\n",
       "       6.99521537e-01, 8.02439426e-01, 9.32236864e-01, 5.99571236e-01,\n",
       "       7.82715786e-01, 9.15203750e-01, 4.91399577e-01, 7.97675857e-01,\n",
       "       8.11387829e-01, 2.51592364e-01, 8.48896285e-01, 4.39876677e-01,\n",
       "       2.52800914e-01, 2.94885227e-01, 8.84058508e-01, 6.61561528e-02,\n",
       "       8.70484143e-01, 5.90268540e-01, 7.68502550e-02, 7.64635299e-01,\n",
       "       6.36935867e-01, 8.50653639e-01, 8.62164139e-01, 9.39511684e-01,\n",
       "       5.40136147e-01, 4.48186538e-01, 7.36913568e-01, 1.82488239e-02,\n",
       "       6.39185591e-04, 9.74846636e-01, 6.28688475e-01, 3.31091664e-01,\n",
       "       1.36993187e-01, 7.74241297e-01, 8.70429656e-01, 5.53290852e-01,\n",
       "       2.83513210e-01, 8.77738586e-01, 1.39955089e-01, 4.59472950e-01,\n",
       "       7.35274226e-01, 5.17148933e-01, 9.50047979e-01, 1.44592880e-01,\n",
       "       4.48650601e-01, 1.38292592e-01, 2.96811592e-01, 5.53878627e-01,\n",
       "       4.11725946e-02, 8.03760854e-01, 8.16833876e-01, 7.78009718e-01,\n",
       "       9.74066757e-01, 6.01319768e-02, 2.59344131e-01, 3.02662666e-01,\n",
       "       4.91586843e-01, 3.61757904e-01, 8.30824693e-01, 3.51344815e-01,\n",
       "       2.83784463e-01, 3.11200323e-01, 9.54138010e-01, 3.06528972e-01,\n",
       "       8.92762726e-01, 5.40070775e-01, 1.29079411e-01, 4.43711205e-01,\n",
       "       8.78226071e-01, 6.90125929e-01, 9.36156722e-01, 7.10722977e-01,\n",
       "       8.65692716e-01, 5.40420162e-01, 9.29290131e-01, 5.25561051e-01,\n",
       "       3.95726641e-01, 7.16498740e-01, 7.51869076e-02, 2.80456104e-01,\n",
       "       7.57156367e-01, 8.34785733e-01, 9.22219025e-04, 3.99938118e-01,\n",
       "       5.15748022e-01, 3.25457360e-01, 5.70192807e-01, 8.67787455e-01,\n",
       "       8.14217715e-01, 7.09433557e-03, 5.66668668e-01, 2.04250829e-01,\n",
       "       5.34865262e-01, 1.58929998e-01, 4.43859200e-01, 4.41984467e-01,\n",
       "       4.74719031e-01, 7.08621090e-01, 8.46561232e-01, 3.10922916e-01,\n",
       "       2.73936211e-01, 3.94568519e-02, 6.86441217e-01, 7.51576505e-02,\n",
       "       7.45665232e-01, 8.11430895e-03, 1.81544591e-01, 3.13443612e-01,\n",
       "       6.35331672e-01, 5.68033897e-02, 6.58277400e-01, 2.56901438e-01,\n",
       "       2.05267507e-01, 1.24743227e-01, 5.84671861e-01, 8.19185120e-01,\n",
       "       8.93537398e-01, 8.70395710e-01, 8.70570064e-01, 6.44822072e-01,\n",
       "       7.74782172e-01, 1.94938013e-01, 6.64152191e-01, 1.42620447e-01,\n",
       "       5.62868679e-02, 5.85929669e-01, 6.82502512e-01, 8.43958851e-01,\n",
       "       7.53959762e-01, 1.49621690e-01, 9.77017706e-01, 4.71054645e-01,\n",
       "       2.25574042e-01, 2.14391722e-01, 5.25927271e-01, 9.85147775e-01,\n",
       "       6.12897876e-01, 7.03408224e-01, 5.48616486e-01, 9.79135489e-01,\n",
       "       8.09727874e-01, 4.42856821e-01, 4.90327773e-01, 9.02664159e-01,\n",
       "       9.55122430e-01, 4.86581502e-02, 7.82760714e-01, 4.27491243e-01,\n",
       "       7.14990909e-01, 8.53305651e-01, 8.61966023e-01, 8.59848442e-02,\n",
       "       2.29221774e-01, 6.84397637e-01, 8.73703638e-01, 3.39876250e-01,\n",
       "       5.68699946e-01, 6.02417109e-01, 7.76992759e-01, 8.92617174e-01,\n",
       "       6.47005344e-01, 1.60449792e-01, 9.66402387e-01, 3.17417476e-01,\n",
       "       3.53524568e-01, 5.02556376e-01, 9.96554559e-01, 4.29882434e-03,\n",
       "       7.93813422e-01, 6.16642415e-01, 9.18208036e-01, 5.86890270e-01,\n",
       "       9.85797563e-02, 3.89951638e-01, 2.33101694e-01, 3.95141565e-01,\n",
       "       1.07555092e-01, 6.14380713e-01, 1.17811746e-01, 8.82012081e-01,\n",
       "       2.17285624e-01, 7.99846420e-01, 8.53089061e-01, 7.75698675e-01,\n",
       "       9.27775222e-01, 8.73173991e-02, 8.86960651e-01, 6.00805133e-01,\n",
       "       8.06339968e-01, 4.18262558e-01, 9.16466598e-01, 7.68606115e-01,\n",
       "       7.99640181e-01, 3.60254780e-01, 4.57160461e-01, 9.66150548e-01,\n",
       "       1.35782109e-01, 7.92122771e-01, 7.46637433e-01, 9.01834265e-01,\n",
       "       3.31276715e-01, 8.85962746e-01, 7.79677155e-01, 7.86352567e-01,\n",
       "       5.87457043e-01, 3.69597847e-01, 5.69165874e-01, 5.98414356e-01,\n",
       "       3.78483143e-01, 6.86510591e-02, 4.04515591e-01, 4.16879579e-02,\n",
       "       3.53919034e-01, 1.22355358e-01, 9.33982411e-01, 7.83357264e-01,\n",
       "       2.00308423e-01, 8.16806581e-01, 4.68382240e-01, 5.27391992e-01,\n",
       "       4.18887445e-02, 1.84743645e-01, 3.58490269e-01, 7.28161229e-01,\n",
       "       3.03975152e-01, 8.16771739e-01, 2.47947689e-01, 5.73937076e-01,\n",
       "       2.29519236e-01, 8.70771371e-01, 4.45185358e-01, 8.14083233e-01,\n",
       "       1.57112080e-01, 2.20669781e-02, 4.99924813e-01, 9.27003198e-02,\n",
       "       4.85567961e-01, 3.16794455e-01, 6.26005977e-01, 8.99509125e-01,\n",
       "       8.37858129e-01, 2.43247221e-02, 4.96203851e-02, 3.60045585e-01,\n",
       "       1.39256768e-01, 5.27684002e-01, 5.74408864e-01, 5.00150720e-01,\n",
       "       9.81315653e-01, 1.31872088e-01, 8.60995607e-02, 3.34062479e-01,\n",
       "       8.12450270e-02, 2.70873552e-02, 4.73557199e-01, 9.01809027e-01,\n",
       "       3.55147025e-01, 8.19548070e-01, 7.37762042e-01, 2.04003818e-01,\n",
       "       8.84211521e-01, 3.62151485e-02, 4.80749816e-01, 3.50457279e-01,\n",
       "       4.39793000e-01, 7.84149723e-01, 6.30194037e-01, 9.04240159e-01,\n",
       "       5.60397354e-01, 3.96216389e-01, 5.54209387e-01, 2.13633380e-02,\n",
       "       3.68642279e-01, 7.31238467e-02, 3.96530193e-01, 7.38734564e-01,\n",
       "       8.16533014e-01, 3.16254224e-01, 7.11040275e-01, 9.75355753e-01,\n",
       "       7.88123312e-01, 6.45258043e-02, 3.70862144e-02, 3.64972609e-01,\n",
       "       4.32618933e-01, 6.12493309e-01, 5.22600564e-01, 6.14399926e-01,\n",
       "       1.24848477e-01, 9.13919755e-03, 3.56065905e-01, 6.72991226e-01])"
      ]
     },
     "execution_count": 75,
     "metadata": {},
     "output_type": "execute_result"
    }
   ],
   "source": [
    "f=random.rand(400)\n",
    "f"
   ]
  },
  {
   "cell_type": "code",
   "execution_count": 77,
   "id": "aeec5030-87eb-40df-8fbc-27702fe7204d",
   "metadata": {},
   "outputs": [],
   "source": [
    "k=random.rand(5)"
   ]
  },
  {
   "cell_type": "code",
   "execution_count": 78,
   "id": "5af817c8-1643-4361-b19d-e1a9bd7233bf",
   "metadata": {},
   "outputs": [
    {
     "data": {
      "text/plain": [
       "array([0.72079119, 0.3175225 , 0.73226323, 0.97718576, 0.5394719 ])"
      ]
     },
     "execution_count": 78,
     "metadata": {},
     "output_type": "execute_result"
    }
   ],
   "source": [
    "k"
   ]
  },
  {
   "cell_type": "code",
   "execution_count": 84,
   "id": "12d19536-cbb3-47e1-8a7a-9c06954676fa",
   "metadata": {},
   "outputs": [
    {
     "data": {
      "text/plain": [
       "np.int64(23)"
      ]
     },
     "execution_count": 84,
     "metadata": {},
     "output_type": "execute_result"
    }
   ],
   "source": [
    "h=random.choice([12,23,435,552])\n",
    "h"
   ]
  },
  {
   "cell_type": "code",
   "execution_count": null,
   "id": "cb1edf82-4c57-4a3d-a28f-24a4a9d4cbc1",
   "metadata": {},
   "outputs": [],
   "source": []
  },
  {
   "cell_type": "code",
   "execution_count": null,
   "id": "ebd6c7e9-e779-4f04-ad43-8038474e3ded",
   "metadata": {},
   "outputs": [],
   "source": []
  },
  {
   "cell_type": "code",
   "execution_count": null,
   "id": "30e6b6bc-9633-43a0-9788-3e5c5f04e565",
   "metadata": {},
   "outputs": [],
   "source": []
  }
 ],
 "metadata": {
  "kernelspec": {
   "display_name": "Python 3 (ipykernel)",
   "language": "python",
   "name": "python3"
  },
  "language_info": {
   "codemirror_mode": {
    "name": "ipython",
    "version": 3
   },
   "file_extension": ".py",
   "mimetype": "text/x-python",
   "name": "python",
   "nbconvert_exporter": "python",
   "pygments_lexer": "ipython3",
   "version": "3.11.9"
  }
 },
 "nbformat": 4,
 "nbformat_minor": 5
}
